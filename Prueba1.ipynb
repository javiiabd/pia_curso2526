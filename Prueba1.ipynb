{
  "nbformat": 4,
  "nbformat_minor": 0,
  "metadata": {
    "colab": {
      "provenance": [],
      "authorship_tag": "ABX9TyN1jBPNjQG2u9qAtzHstLMr",
      "include_colab_link": true
    },
    "kernelspec": {
      "name": "python3",
      "display_name": "Python 3"
    },
    "language_info": {
      "name": "python"
    }
  },
  "cells": [
    {
      "cell_type": "markdown",
      "metadata": {
        "id": "view-in-github",
        "colab_type": "text"
      },
      "source": [
        "<a href=\"https://colab.research.google.com/github/javiiabd/pia_curso2526/blob/main/Prueba1.ipynb\" target=\"_parent\"><img src=\"https://colab.research.google.com/assets/colab-badge.svg\" alt=\"Open In Colab\"/></a>"
      ]
    },
    {
      "cell_type": "code",
      "source": [
        "agenda = {}\n",
        "\n",
        "def agregar_contacto(agenda):\n",
        "  print(\"Agregar Contacto\")\n",
        "  nombre = input(\"Ingrese el nombre del contacto: \")\n",
        "  telefono = input(\"Ingrese el número de teléfono: \")\n",
        "  agenda[nombre] = telefono\n",
        "  return\n",
        "\n",
        "agregar_contacto(agenda)\n",
        "print(agenda)\n",
        "\n",
        "#print(f\"Contacto '{nombre}' agregado con éxito.\")\n",
        "\n",
        "\n"
      ],
      "metadata": {
        "colab": {
          "base_uri": "https://localhost:8080/"
        },
        "collapsed": true,
        "id": "FSc-Z1a3TUE6",
        "outputId": "01fc4f2a-af4f-473b-dba6-286d415567d6"
      },
      "execution_count": 28,
      "outputs": [
        {
          "output_type": "stream",
          "name": "stdout",
          "text": [
            "Agregar Contacto\n",
            "Ingrese el nombre del contacto: pepe\n",
            "Ingrese el número de teléfono: 928\n",
            "{'pepe': '928'}\n"
          ]
        }
      ]
    },
    {
      "cell_type": "code",
      "source": [
        "agenda = {}\n",
        "\n",
        "def agregar_contacto(agenda):\n",
        "  print(\"Agregar Contacto\")\n",
        "  nombre = input(\"Ingrese el nombre del contacto: \")\n",
        "  telefono = input(\"Ingrese el número de teléfono: \")\n",
        "  agenda[nombre] = {\"telefono\": telefono}\n",
        "  print(f\"Contacto '{nombre}' agregado con éxito.\")\n",
        "  return agenda\n",
        "\n",
        "def agregar_direccion(agenda):\n",
        "  print(\"Agregar Dirección\")\n",
        "  nombre = input(\"Ingrese el nombre del contacto para agregar dirección: \")\n",
        "  if nombre in agenda:\n",
        "    direccion = input(f\"Ingrese la dirección para {nombre}: \")\n",
        "    agenda[nombre][\"direccion\"] = direccion\n",
        "    print(f\"Dirección agregada para '{nombre}'.\")\n",
        "    print(agenda)\n",
        "  else:\n",
        "    print(f\"El contacto '{nombre}' no existe en la agenda.\")\n",
        "  return agenda\n",
        "\n",
        "agenda = agregar_contacto(agenda)\n",
        "agenda = agregar_direccion(agenda)\n",
        "#print(agenda)"
      ],
      "metadata": {
        "colab": {
          "base_uri": "https://localhost:8080/"
        },
        "id": "Jg2CjbiPYZAP",
        "outputId": "acab00ac-3950-4911-dd99-b3953c05be78"
      },
      "execution_count": 19,
      "outputs": [
        {
          "output_type": "stream",
          "name": "stdout",
          "text": [
            "Agregar Contacto\n",
            "Ingrese el nombre del contacto: pepe\n",
            "Ingrese el número de teléfono: 928\n",
            "Contacto 'pepe' agregado con éxito.\n",
            "Agregar Dirección\n",
            "Ingrese el nombre del contacto para agregar dirección: pepe\n",
            "Ingrese la dirección para pepe: falsa\n",
            "Dirección agregada para 'pepe'.\n",
            "{'pepe': {'telefono': '928', 'direccion': 'falsa'}}\n"
          ]
        }
      ]
    },
    {
      "cell_type": "code",
      "source": [
        "def menu(*platos):\n",
        "     print('Hoy tenemos: ', end='')\n",
        "     for plato in platos:\n",
        "         print(plato, end=', ')\n",
        "     return\n",
        "menu('sushi', 'pizza', 'bocadillos', 'pasta')\n",
        "#print (menu)"
      ],
      "metadata": {
        "colab": {
          "base_uri": "https://localhost:8080/"
        },
        "id": "EKfspOl9gT1g",
        "outputId": "ee0e3ce6-6605-4aae-c2cd-6e1755734a64"
      },
      "execution_count": 27,
      "outputs": [
        {
          "output_type": "stream",
          "name": "stdout",
          "text": [
            "Hoy tenemos: sushi, pizza, bocadillos, pasta, "
          ]
        }
      ]
    }
  ]
}