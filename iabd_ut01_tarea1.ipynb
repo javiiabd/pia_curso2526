{
  "nbformat": 4,
  "nbformat_minor": 0,
  "metadata": {
    "colab": {
      "provenance": [],
      "authorship_tag": "ABX9TyMHRSlfbtpA+3W9es52bxxh"
    },
    "kernelspec": {
      "name": "python3",
      "display_name": "Python 3"
    },
    "language_info": {
      "name": "python"
    }
  },
  "cells": [
    {
      "cell_type": "markdown",
      "source": [
        "Javier Ventura Fernández"
      ],
      "metadata": {
        "id": "ilQS4goDvC0g"
      }
    },
    {
      "cell_type": "markdown",
      "source": [
        "En una nueva celda de código, crea una lista de nombre tenistas con los siguientes\n",
        "elementos: Novak Djokovic, Rafael Nadal, Roger Federer, Pete Sampras, Roy Emerson. Crea otra lista de nombre grand_slams con los siguientes elementos: 24, 22, 20, 14, 12.\n",
        "Imprime por pantalla las dos listas."
      ],
      "metadata": {
        "id": "eiIu7AtRwsnF"
      }
    },
    {
      "cell_type": "code",
      "metadata": {
        "colab": {
          "base_uri": "https://localhost:8080/"
        },
        "id": "4fc1caa0",
        "outputId": "b31cbdab-15c3-4e09-80aa-084a4beca3d0"
      },
      "source": [
        "tenistas = [\"Novak Djokovic\", \"Rafael Nadal\", \"Roger Federer\", \"Pete Sampras\", \"Roy Emerson\"]\n",
        "grand_slams = [24, 22, 20, 14, 12]\n",
        "\n",
        "print(\"Lista de tenistas:\", tenistas)\n",
        "print(\"Lista de Grand Slams:\", grand_slams)"
      ],
      "execution_count": 1,
      "outputs": [
        {
          "output_type": "stream",
          "name": "stdout",
          "text": [
            "Lista de tenistas: ['Novak Djokovic', 'Rafael Nadal', 'Roger Federer', 'Pete Sampras', 'Roy Emerson']\n",
            "Lista de Grand Slams: [24, 22, 20, 14, 12]\n"
          ]
        }
      ]
    },
    {
      "cell_type": "markdown",
      "source": [
        "En una nueva celda de código, crea un diccionario de nombre dic donde la clave de\n",
        "cada elemento sea el nombre de un tenista y su valor el número de Grand Slams ganados.\n",
        "Imprime por pantalla el diccionario."
      ],
      "metadata": {
        "id": "7i5_Me1FwxMF"
      }
    },
    {
      "cell_type": "code",
      "metadata": {
        "colab": {
          "base_uri": "https://localhost:8080/"
        },
        "id": "f7b4a9f5",
        "outputId": "f61bd35f-56d2-4cb7-c52d-bd26c45b9f8a"
      },
      "source": [
        "dic = dict(zip(tenistas, grand_slams))\n",
        "print(dic)"
      ],
      "execution_count": 2,
      "outputs": [
        {
          "output_type": "stream",
          "name": "stdout",
          "text": [
            "{'Novak Djokovic': 24, 'Rafael Nadal': 22, 'Roger Federer': 20, 'Pete Sampras': 14, 'Roy Emerson': 12}\n"
          ]
        }
      ]
    },
    {
      "cell_type": "markdown",
      "source": [
        "Crea una función de nombre get_tenistas que reciba como parámetro el diccionario\n",
        "dic y muestre los datos del diccionario en la forma Nombre del jugador: X Grand Slams\n",
        "ganados."
      ],
      "metadata": {
        "id": "gGUljgDzw2ot"
      }
    },
    {
      "cell_type": "code",
      "metadata": {
        "colab": {
          "base_uri": "https://localhost:8080/"
        },
        "id": "0854de49",
        "outputId": "c87bc724-5953-4fb4-d55f-7cee79e3a954"
      },
      "source": [
        "def get_tenistas(dic):\n",
        "  for tenista, grand_slams in dic.items():\n",
        "    print(f\"{tenista}: {grand_slams} Grand Slams ganados.\")\n",
        "\n",
        "get_tenistas(dic)"
      ],
      "execution_count": 3,
      "outputs": [
        {
          "output_type": "stream",
          "name": "stdout",
          "text": [
            "Novak Djokovic: 24 Grand Slams ganados.\n",
            "Rafael Nadal: 22 Grand Slams ganados.\n",
            "Roger Federer: 20 Grand Slams ganados.\n",
            "Pete Sampras: 14 Grand Slams ganados.\n",
            "Roy Emerson: 12 Grand Slams ganados.\n"
          ]
        }
      ]
    },
    {
      "cell_type": "markdown",
      "source": [
        "Define la clase Pais con un \"constructor\" que inicialice los atributos nombre, capital e idioma, que serán los datos a considerar en la clase. Dentro de ella, crea los métodos\n",
        "get_nombre, get_capital y get_idioma, que devolverán el nombre del país, su capital y el idioma\n",
        "hablado, respectivamente. A continuación, crea una instancia u objeto de la clase Pais,\n",
        "asignándole los datos que desees, y haz uso de los métodos implementados para mostrar un\n",
        "mensaje con la información almacenada.\n"
      ],
      "metadata": {
        "id": "2VXkY_P4xAnE"
      }
    },
    {
      "cell_type": "code",
      "metadata": {
        "colab": {
          "base_uri": "https://localhost:8080/"
        },
        "id": "164b640b",
        "outputId": "d96db161-a86e-49aa-89e5-52a4b8763292"
      },
      "source": [
        "class Pais:\n",
        "    def __init__(self, nombre, capital, idioma):\n",
        "        self.nombre = nombre\n",
        "        self.capital = capital\n",
        "        self.idioma = idioma\n",
        "\n",
        "    def get_nombre(self):\n",
        "        return self.nombre\n",
        "\n",
        "    def get_capital(self):\n",
        "        return self.capital\n",
        "\n",
        "    def get_idioma(self):\n",
        "        return self.idioma\n",
        "\n",
        "mi_pais = Pais(\"España\", \"Madrid\", \"Español\")\n",
        "\n",
        "print(f\"Nombre del país: {mi_pais.get_nombre()}\")\n",
        "print(f\"Capital: {mi_pais.get_capital()}\")\n",
        "print(f\"Idioma: {mi_pais.get_idioma()}\")"
      ],
      "execution_count": 4,
      "outputs": [
        {
          "output_type": "stream",
          "name": "stdout",
          "text": [
            "Nombre del país: España\n",
            "Capital: Madrid\n",
            "Idioma: Español\n"
          ]
        }
      ]
    }
  ]
}